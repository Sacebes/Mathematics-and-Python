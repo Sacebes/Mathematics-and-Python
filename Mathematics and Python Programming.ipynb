{
 "cells": [
  {
   "cell_type": "code",
   "execution_count": null,
   "metadata": {},
   "outputs": [],
   "source": [
    "#  #  Mathematics and Python Programming  #  #"
   ]
  },
  {
   "cell_type": "code",
   "execution_count": null,
   "metadata": {
    "collapsed": true
   },
   "outputs": [],
   "source": [
    "# This book contains the following functions: \n",
    "#(i) Check Prime number; \n",
    "#(ii) Sieve of Eratostenes; \n",
    "#(iii) Factorial numbers; \n",
    "#(iv) Fibonacci sequence; \n",
    "#(v) Decimal to binary numbers and viceversa;"
   ]
  },
  {
   "cell_type": "code",
   "execution_count": null,
   "metadata": {
    "collapsed": true
   },
   "outputs": [],
   "source": [
    "# # 1.- Check if a given number is prime"
   ]
  },
  {
   "cell_type": "code",
   "execution_count": 48,
   "metadata": {
    "scrolled": true
   },
   "outputs": [
    {
     "name": "stdout",
     "output_type": "stream",
     "text": [
      "prime 11\n"
     ]
    },
    {
     "data": {
      "text/plain": [
       "False"
      ]
     },
     "execution_count": 48,
     "metadata": {},
     "output_type": "execute_result"
    }
   ],
   "source": [
    "\n",
    "def check_prime(number):    #Check if a given number is prime\n",
    "    prime = False\n",
    "    cont=0\n",
    "    for i in range(2,number):   \n",
    "        if(number%i==0):\n",
    "            cont+=1\n",
    "            if cont>1:\n",
    "                prime = False\n",
    "                \n",
    "    if cont<=1:\n",
    "        print 'prime', number\n",
    "        prime = True\n",
    "    return prime   \n",
    "\n",
    "#Example\n",
    "check_prime(12) "
   ]
  },
  {
   "cell_type": "code",
   "execution_count": null,
   "metadata": {},
   "outputs": [],
   "source": [
    "# 2.- SIEVE OF ERATOSTENES (all prime numbers up to any given)\n",
    "\n",
    "# The sieve of Eratosthenes is a simple, ancient algorithm for finding all prime numbers up\n",
    "# to any given limit. It is an iterative process that finds any prime number. \n",
    "# The sieve stops when the square of the number is higher than the last number checked. \n",
    "# For example: For computing prime numbers between 1 and 100, I should stop in 11. \n",
    "# Remember: a number is prime only if it is divisible by one and the number itself. \n",
    "\n",
    "# A.- FIRST, compute all the no prime numbers (function noPrime)\n",
    "# B.- SECOND, check all the numbers in the no prime list"
   ]
  },
  {
   "cell_type": "code",
   "execution_count": 36,
   "metadata": {},
   "outputs": [
    {
     "data": {
      "text/plain": [
       "[1, 2, 3, 5, 7, 11, 13, 17, 19]"
      ]
     },
     "execution_count": 36,
     "metadata": {},
     "output_type": "execute_result"
    }
   ],
   "source": [
    "\n",
    "import math\n",
    "\n",
    "def allPrime(n):  #List all prime numbers until n using the Sieve of Eratostenes\n",
    "    noprime = []\n",
    "    all_prime = []\n",
    "    n_max=int(math.sqrt(n)+1)  #The sieve will stop in this number \n",
    "\n",
    "    # A.-  Find all the no prime numbers in a given range \n",
    "    #create a list of no prime numbers (by multiplying )\n",
    "    for j in range(2,n_max):\n",
    "        for k in range(2,n):  \n",
    "            if j*k<n:    \n",
    "                noprime.append(j*k) #It generates a list of no prime numbers\n",
    "    noprime_list = list(set(noprime))  #\"set\" orders and removes duplicates\n",
    "    \n",
    "    # B.- Check all the numbers not in the noprime list\n",
    "    for z in range(1,n):\n",
    "        if not z in noprime_list:\n",
    "            all_prime.append(z)  \n",
    "        \n",
    "    #return noprime_list, all_prime  \n",
    "    return all_prime\n",
    "\n",
    "#Example\n",
    "allPrime(20)\n",
    "\n"
   ]
  },
  {
   "cell_type": "code",
   "execution_count": null,
   "metadata": {
    "collapsed": true
   },
   "outputs": [],
   "source": [
    "# 3.- FACTORIAL NUMBERS\n",
    "# The factorial of n is the product of all positive integers less than or equal to n"
   ]
  },
  {
   "cell_type": "code",
   "execution_count": 37,
   "metadata": {},
   "outputs": [
    {
     "data": {
      "text/plain": [
       "40320"
      ]
     },
     "execution_count": 37,
     "metadata": {},
     "output_type": "execute_result"
    }
   ],
   "source": [
    "\n",
    "def factorial(integer):  #Computes the factorial of n\n",
    "    result=integer\n",
    "    for y in range(integer-1,1,-1):\n",
    "        result=result*y\n",
    "    return result\n",
    "    \n",
    "#Example\n",
    "factorial(8)\n",
    "        "
   ]
  },
  {
   "cell_type": "code",
   "execution_count": null,
   "metadata": {
    "collapsed": true
   },
   "outputs": [],
   "source": [
    "# 4.- COMPUTE THE NTH TERM FROM FIBONACCI SEQUENCE\n",
    "#Fibonacci sequence: each number is the sum of the two preceding ones, starting from 0 and 1. "
   ]
  },
  {
   "cell_type": "code",
   "execution_count": 41,
   "metadata": {},
   "outputs": [
    {
     "name": "stdout",
     "output_type": "stream",
     "text": [
      "[0, 1, 1, 2, 3, 5, 8, 13, 21, 34]\n"
     ]
    }
   ],
   "source": [
    "\n",
    "from math import sqrt\n",
    "\n",
    "def Fibo(number):   #Binet form to compute the Nth term from the Fibonacci sequence \n",
    "    \n",
    "    numerator=((1+sqrt(5))**(number))-((1-sqrt(5))**(number))\n",
    "    denominator= sqrt(5)*2**number\n",
    "    result=numerator/denominator\n",
    "    return int(result)\n",
    "\n",
    "#Example\n",
    "Fibo(9)  #The 9th element in the sequence\n",
    "\n",
    "#Compute the Fibonacci sequence\n",
    "sequence = []\n",
    "number = 9 #element\n",
    "for zz in range(0,number+1):\n",
    "    sequence.append(Fibo(zz))\n",
    "    \n",
    "print sequence\n"
   ]
  },
  {
   "cell_type": "code",
   "execution_count": null,
   "metadata": {},
   "outputs": [],
   "source": [
    "# 5.- CONVERTING DECIMAL TO BINARY NUMBER (and viceversa)"
   ]
  },
  {
   "cell_type": "code",
   "execution_count": null,
   "metadata": {
    "collapsed": true
   },
   "outputs": [],
   "source": [
    "# Decimal to binary: Divide the decimal number between two; \n",
    "#if the rest is even = 0, if not =1"
   ]
  },
  {
   "cell_type": "code",
   "execution_count": 13,
   "metadata": {},
   "outputs": [
    {
     "data": {
      "text/plain": [
       "'110111'"
      ]
     },
     "execution_count": 13,
     "metadata": {},
     "output_type": "execute_result"
    }
   ],
   "source": [
    "def deci_to_bi(deci):  #This function converts decimal numbers into binary ones.\n",
    "    bi=[]\n",
    "    while deci >=1:\n",
    "        if deci%2 == 0 :  \n",
    "            bi.append(str(0))\n",
    "        else:\n",
    "            bi.append(str(1))\n",
    "        deci=deci/2\n",
    "    \n",
    "    binario=\"\".join(bi[::-1]) #join the reverse of the list\n",
    "    return binario\n",
    "\n",
    "#Example\n",
    "deci_to_bi(55)  "
   ]
  },
  {
   "cell_type": "code",
   "execution_count": 45,
   "metadata": {},
   "outputs": [
    {
     "data": {
      "text/plain": [
       "43"
      ]
     },
     "execution_count": 45,
     "metadata": {},
     "output_type": "execute_result"
    }
   ],
   "source": [
    "def bi_to_deci(bi): #This funcion converts binary numbers into decimal ones\n",
    "    lista= list(str(bi))\n",
    "    lista_inv = lista[::-1]  #inverse positions\n",
    "    sum=0\n",
    "    for position, item in enumerate(lista_inv):  \n",
    "        sum=sum+int(item)*2**position\n",
    "    return sum\n",
    "        \n",
    "#Example       \n",
    "bi_to_deci(101011) #esta ignorando el ultimo cero"
   ]
  },
  {
   "cell_type": "code",
   "execution_count": null,
   "metadata": {},
   "outputs": [],
   "source": [
    "# Functions bin() and int()   # Transform binary and decimal numbers"
   ]
  },
  {
   "cell_type": "code",
   "execution_count": 43,
   "metadata": {},
   "outputs": [
    {
     "name": "stdout",
     "output_type": "stream",
     "text": [
      "43\n"
     ]
    }
   ],
   "source": [
    "number = 101011\n",
    "#Convert binary Numbers into decimal ones\n",
    "print int(str(number),2)"
   ]
  },
  {
   "cell_type": "code",
   "execution_count": 44,
   "metadata": {},
   "outputs": [
    {
     "name": "stdout",
     "output_type": "stream",
     "text": [
      "101011\n"
     ]
    }
   ],
   "source": [
    "number = 43\n",
    "#Convert decimal numbers into binary ones\n",
    "print int(bin(number)[2:])"
   ]
  }
 ],
 "metadata": {
  "kernelspec": {
   "display_name": "Python 2",
   "language": "python",
   "name": "python2"
  },
  "language_info": {
   "codemirror_mode": {
    "name": "ipython",
    "version": 2
   },
   "file_extension": ".py",
   "mimetype": "text/x-python",
   "name": "python",
   "nbconvert_exporter": "python",
   "pygments_lexer": "ipython2",
   "version": "2.7.14"
  }
 },
 "nbformat": 4,
 "nbformat_minor": 2
}
